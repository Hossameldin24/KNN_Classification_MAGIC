{
 "cells": [
  {
   "cell_type": "markdown",
   "metadata": {},
   "source": [
    "1 Nearest Neighbour Classifier using MAGIC telescopic dataset"
   ]
  },
  {
   "cell_type": "code",
   "execution_count": 4,
   "metadata": {},
   "outputs": [
    {
     "name": "stdout",
     "output_type": "stream",
     "text": [
      "Original 'g' records: 12332\n",
      "Original 'h' records: 6688\n",
      "Balanced dataset saved to balanced_dataset.txt\n",
      "Original 'g' records: 6688\n",
      "Original 'h' records: 6688\n"
     ]
    }
   ],
   "source": [
    "import random\n",
    "\n",
    "file_path = 'magic.txt'\n",
    "with open(file_path, 'r') as f:\n",
    "    lines = f.readlines()\n",
    "\n",
    "g_records = [line for line in lines if line.strip().endswith(',g')]\n",
    "h_records = [line for line in lines if line.strip().endswith(',h')]\n",
    "\n",
    "g_count = len(g_records)\n",
    "h_count = len(h_records)\n",
    "\n",
    "print(f\"Original 'g' records: {g_count}\")\n",
    "print(f\"Original 'h' records: {h_count}\")\n",
    "\n",
    "balanced_g_records = random.sample(g_records, h_count)\n",
    "\n",
    "balanced_dataset = balanced_g_records + h_records\n",
    "\n",
    "random.shuffle(balanced_dataset)\n",
    "\n",
    "output_file = 'balanced_dataset.txt'\n",
    "with open(output_file, 'w') as f:\n",
    "    f.writelines(balanced_dataset)\n",
    "\n",
    "print(f\"Balanced dataset saved to {output_file}\")\n",
    "\n",
    "with open(output_file, 'r') as f:\n",
    "    lines = f.readlines()\n",
    "\n",
    "g_records = [line for line in lines if line.strip().endswith(',g')]\n",
    "h_records = [line for line in lines if line.strip().endswith(',h')]\n",
    "\n",
    "g_count = len(g_records)\n",
    "h_count = len(h_records)\n",
    "\n",
    "print(f\"Original 'g' records: {g_count}\")\n",
    "print(f\"Original 'h' records: {h_count}\")"
   ]
  },
  {
   "cell_type": "code",
   "execution_count": null,
   "metadata": {},
   "outputs": [],
   "source": []
  },
  {
   "cell_type": "code",
   "execution_count": null,
   "metadata": {},
   "outputs": [],
   "source": []
  }
 ],
 "metadata": {
  "kernelspec": {
   "display_name": "Python 3",
   "language": "python",
   "name": "python3"
  },
  "language_info": {
   "codemirror_mode": {
    "name": "ipython",
    "version": 3
   },
   "file_extension": ".py",
   "mimetype": "text/x-python",
   "name": "python",
   "nbconvert_exporter": "python",
   "pygments_lexer": "ipython3",
   "version": "3.12.4"
  }
 },
 "nbformat": 4,
 "nbformat_minor": 2
}
